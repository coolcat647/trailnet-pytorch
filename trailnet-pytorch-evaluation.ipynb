{
 "cells": [
  {
   "cell_type": "code",
   "execution_count": null,
   "metadata": {},
   "outputs": [],
   "source": [
    "import torch\n",
    "from torch import nn\n",
    "import torch.backends.cudnn as cudnn\n",
    "from torch.utils.data import Dataset, DataLoader\n",
    "from torch.utils.data.sampler import SubsetRandomSampler\n",
    "from torch.optim.lr_scheduler import CosineAnnealingLR, MultiStepLR\n",
    "import torchvision\n",
    "from torchvision import transforms, utils, datasets\n",
    "\n",
    "import os\n",
    "import sys\n",
    "if '/opt/ros/kinetic/lib/python2.7/dist-packages' in sys.path:\n",
    "    sys.path.remove('/opt/ros/kinetic/lib/python2.7/dist-packages')\n",
    "import cv2\n",
    "import h5py\n",
    "import PIL\n",
    "import numpy as np\n",
    "import random\n",
    "import logging\n",
    "import gdown\n",
    "from zipfile import ZipFile\n",
    "import matplotlib.pyplot as plt\n",
    "\n",
    "%matplotlib inline"
   ]
  },
  {
   "cell_type": "code",
   "execution_count": null,
   "metadata": {},
   "outputs": [],
   "source": [
    "test_dataset_url = 'https://drive.google.com/uc?id=1cKLNz86fd-20I-lMELVf2lUUvUbFGx-u'\n",
    "test_dataset_name = 'YB_3class_60'\n",
    "if not os.path.isdir(test_dataset_name):\n",
    "    gdown.download(test_dataset_url, output=test_dataset_name + '.zip', quiet=False)\n",
    "    zip1 = ZipFile(test_dataset_name + '.zip')\n",
    "    zip1.extractall(test_dataset_name)\n",
    "    zip1.close()\n",
    "\n",
    "print 'Finished downloading testing dataset.'"
   ]
  },
  {
   "cell_type": "markdown",
   "metadata": {},
   "source": [
    "## Download pre-trained model"
   ]
  },
  {
   "cell_type": "code",
   "execution_count": null,
   "metadata": {},
   "outputs": [],
   "source": [
    "pretrain_model_url = 'https://drive.google.com/uc?id=1aSU1mg0qiFsgBw1p2-hd2bgv2WtQh2m_'\n",
    "pretrain_model_name = 'trailnet_3class_real_vr_mix_color.h5'\n",
    "if not os.path.isfile(os.path.join(MODELS_ROOT, pretrain_model_name)):\n",
    "    if not os.path.isdir(MODELS_ROOT):\n",
    "        os.mkdir(MODELS_ROOT)\n",
    "    gdown.download(pretrain_model_url, output=os.path.join(MODELS_ROOT, pretrain_model_name), quiet=False)\n",
    "    \n",
    "print 'Finished downloading pre-trained model.'  "
   ]
  },
  {
   "cell_type": "markdown",
   "metadata": {},
   "source": [
    "## Image loading methods"
   ]
  },
  {
   "cell_type": "code",
   "execution_count": null,
   "metadata": {},
   "outputs": [],
   "source": [
    "def pil_loader(path):\n",
    "    with open(path, 'rb') as f:\n",
    "        with PIL.Image.open(f) as img:\n",
    "            return img.convert('RGB')\n",
    "\n",
    "def accimage_loader(path):\n",
    "    import accimage\n",
    "    try:\n",
    "        return accimage.Image(path)\n",
    "    except IOError:\n",
    "        # Potentially a decoding problem, fall back to PIL.Image\n",
    "        return pil_loader(path)\n",
    "\n",
    "def default_loader(path):\n",
    "    if torchvision.get_image_backend() == 'accimage':\n",
    "        return accimage_loader(path)\n",
    "    else:\n",
    "        return pil_loader(path)"
   ]
  },
  {
   "cell_type": "code",
   "execution_count": null,
   "metadata": {},
   "outputs": [],
   "source": [
    "BATCH_SIZE = 4\n",
    "INPUT_IMG_SIZE = (101, 101)\n",
    "EPOCH = 30                # train the training data n times, to save time, we just train 1 epoch\n",
    "LR = 0.001               # learning rate\n",
    "DATASET_ROOT = './YB_3class_60'\n",
    "MODELS_ROOT = './models'\n",
    "CLASSES = np.loadtxt('class_id.txt', str, delimiter='\\n')"
   ]
  },
  {
   "cell_type": "markdown",
   "metadata": {},
   "source": [
    "## Dataset preparation method #1\n",
    "Use **DatasetFolder** provided by [torchvision.datasets](https://pytorch.org/docs/stable/torchvision/datasets.html#datasetfolder)"
   ]
  },
  {
   "cell_type": "code",
   "execution_count": null,
   "metadata": {},
   "outputs": [],
   "source": [
    "def create_trailnet_dataloader(batch = BATCH_SIZE, shuffle=True):\n",
    "    # The path to images folder \n",
    "    fpath = os.path.join('./YB_3class_60/YB_A1_60')\n",
    "    \n",
    "    # Data transformer\n",
    "    data_transform = transforms.Compose([\n",
    "            transforms.Resize(INPUT_IMG_SIZE),\n",
    "            transforms.ToTensor(),\n",
    "            transforms.Normalize(mean=[0.5, 0.5, 0.5], \\\n",
    "                                std=[1, 1, 1])\n",
    "    ])\n",
    "    \n",
    "    # Image loader\n",
    "    img_loader = datasets.DatasetFolder(root=fpath, \\\n",
    "                                        loader=default_loader, \\\n",
    "                                        transform=data_transform, \\\n",
    "                                        extensions='.jpg'\n",
    "                                       )\n",
    "    print('Amount of data: ' + str(len(img_loader)))\n",
    "    \n",
    "    # Pytorch dataset loader\n",
    "    loader = torch.utils.data.DataLoader(dataset=img_loader, \\\n",
    "                                         batch_size=batch, \\\n",
    "                                         shuffle=shuffle)\n",
    "    return loader"
   ]
  },
  {
   "cell_type": "code",
   "execution_count": null,
   "metadata": {},
   "outputs": [],
   "source": [
    "def vis_img(batch_data):   \n",
    "    # show images\n",
    "    imgs = torchvision.utils.make_grid(batch_data)\n",
    "    imgs = imgs / 2 + 0.5     # unnormalize\n",
    "    npimgs = imgs.numpy()\n",
    "    plt.rcParams['figure.figsize'] = [12, 5]\n",
    "    plt.imshow(np.transpose(npimgs, (1, 2, 0)))"
   ]
  },
  {
   "cell_type": "code",
   "execution_count": null,
   "metadata": {
    "scrolled": true
   },
   "outputs": [],
   "source": [
    "testdata_loader = create_trailnet_dataloader()\n",
    "data_iter = iter(testdata_loader)\n",
    "batch_data = data_iter.next()\n",
    "vis_img(batch_data[0])\n",
    "\n",
    "print('labels:' + str(batch_data[1].numpy()))"
   ]
  },
  {
   "cell_type": "markdown",
   "metadata": {},
   "source": [
    "## Dataset preparation method #2\n",
    "Create own dataset loader wtih following code strcture\n",
    "\n",
    "```python\n",
    "from torch.utils.data.dataset import Dataset\n",
    "\n",
    "class customDataset(Dataset):\n",
    "    def __init__(self):\n",
    "        ##############################################\n",
    "        ### Initialize paths, transforms, and so on\n",
    "        ##############################################\n",
    "        \n",
    "    def __getitem__(self, index):\n",
    "        ##############################################\n",
    "        # 1. Read from file (using numpy.fromfile, PIL.Image.open)\n",
    "        # 2. Preprocess the data (torchvision.Transform).\n",
    "        # 3. Return the data (e.g. image and label)\n",
    "        ##############################################\n",
    "        \n",
    "    def __len__(self):\n",
    "        ##############################################\n",
    "        ### Indicate the total size of the dataset\n",
    "        ##############################################\n",
    "```"
   ]
  },
  {
   "cell_type": "code",
   "execution_count": null,
   "metadata": {},
   "outputs": [],
   "source": [
    "def load_images_from_folder(folder, classes):\n",
    "    img_paths = []\n",
    "    labels = []\n",
    "    for class_id, class_name in enumerate(classes):\n",
    "        class_folder = os.path.join(folder, class_name)\n",
    "        for filename in os.listdir(class_folder):\n",
    "            filename.lower().endswith(('.png', '.jpg', '.jpeg'))\n",
    "            img_paths.append(os.path.join(class_folder, filename))\n",
    "            labels.append(class_id)\n",
    "    return img_paths, labels"
   ]
  },
  {
   "cell_type": "code",
   "execution_count": null,
   "metadata": {},
   "outputs": [],
   "source": [
    "class TrailnetDataset(Dataset):\n",
    "    def __init__(self, dataset_root):\n",
    "        classes = CLASSES\n",
    "        dataset_folders = self.collect_folders_from_dataset(dataset_root, classes)\n",
    "        \n",
    "        self.img_list = []\n",
    "        self.label_list = []\n",
    "        cnt = 0\n",
    "        for p in dataset_folders:\n",
    "            img_paths, labels = load_images_from_folder(p, classes)\n",
    "            self.img_list.extend(img_paths)\n",
    "            self.label_list.extend(labels)\n",
    "            cnt += len(img_paths)\n",
    "        print '********** Dataset Info start **********\\n'\n",
    "        print 'Dataset folder: ', dataset_folders\n",
    "        print 'Output classes: ', classes\n",
    "        print 'Amount of images: ', cnt\n",
    "        print '\\n*********** Dataset Info end ***********\\n'\n",
    "        \n",
    "        self.data_transform = transforms.Compose([ \n",
    "                                transforms.Resize(INPUT_IMG_SIZE), \\\n",
    "                                transforms.ToTensor(), \\\n",
    "                                transforms.Normalize(mean=[0.5, 0.5, 0.5], \\\n",
    "                                                     std=[1, 1, 1]), \\\n",
    "                                ])\n",
    "\n",
    "    def __len__(self):\n",
    "        return len(self.img_list)\n",
    "    \n",
    "    def collect_folders_from_dataset(self, dataset_root, classes):\n",
    "        # Implement by BFS\n",
    "        search_list = [dataset_root, ]\n",
    "        dataset_folders = [] \n",
    "        while len(search_list) != 0:\n",
    "            root = search_list.pop(0)\n",
    "            if set(os.listdir(root)) == set(classes):\n",
    "                dataset_folders.append(root)\n",
    "            else:\n",
    "                for folder in os.listdir(root):\n",
    "                    path = os.path.join(root, folder)\n",
    "                    if os.path.isdir(path):\n",
    "                        search_list.append(path)\n",
    "        return dataset_folders\n",
    "\n",
    "    def __getitem__(self, index):\n",
    "        'Generates one sample of data'\n",
    "        # print self.img_list[index]\n",
    "        # Select sample, then load data and get label\n",
    "        img_raw = self.default_loader(self.img_list[index])\n",
    "        x = self.data_transform(img_raw)\n",
    "        y = torch.tensor(self.label_list[index])\n",
    "        return x, y\n",
    "    \n",
    "    def pil_loader(self, path):\n",
    "        with open(path, 'rb') as f:\n",
    "            with PIL.Image.open(f) as img:\n",
    "                return img.convert('RGB')\n",
    "\n",
    "    def accimage_loader(self, path):\n",
    "        try:\n",
    "            return accimage.Image(path)\n",
    "        except IOError:\n",
    "            # Potentially a decoding problem, fall back to PIL.Image\n",
    "            return pil_loader(path)\n",
    "\n",
    "    def default_loader(self, path):\n",
    "        if torchvision.get_image_backend() == 'accimage':\n",
    "            return self.accimage_loader(path)\n",
    "        else:\n",
    "            return self.pil_loader(path)"
   ]
  },
  {
   "cell_type": "markdown",
   "metadata": {},
   "source": [
    "#### Dataset random loading test"
   ]
  },
  {
   "cell_type": "code",
   "execution_count": null,
   "metadata": {},
   "outputs": [],
   "source": [
    "import random\n",
    "dataset = TrailnetDataset(dataset_root=DATASET_ROOT)\n",
    "img , l = random.choice(dataset)\n",
    "print type(img),type(l)\n",
    "\n",
    "print 'Image size: ', img.size()\n",
    "print 'Ground true: ', l\n",
    "print 'Image: '\n",
    "vis_img(img)"
   ]
  },
  {
   "cell_type": "markdown",
   "metadata": {},
   "source": [
    "# Model declare"
   ]
  },
  {
   "cell_type": "code",
   "execution_count": null,
   "metadata": {},
   "outputs": [],
   "source": [
    "class TrailNet3Class(nn.Module):\n",
    "\n",
    "    def __init__(self):\n",
    "        super(TrailNet3Class, self).__init__()\n",
    "        # 1 input image channel, 6 output channels, 5x5 square convolution\n",
    "        # kernel\n",
    "        self.conv1 = nn.Conv2d(3, 32, 4)\n",
    "        self.pool1 = nn.MaxPool2d((2, 2), stride=2)\n",
    "        self.conv2 = nn.Conv2d(32, 32, 4)\n",
    "        self.pool2 = nn.MaxPool2d((2, 2), stride=2)\n",
    "        self.conv3 = nn.Conv2d(32, 32, 4)\n",
    "        self.pool3 = nn.MaxPool2d((2, 2), stride=2)\n",
    "        self.conv4 = nn.Conv2d(32, 32, 4, padding=(2, 2))\n",
    "        self.pool4 = nn.MaxPool2d((2, 2), stride=2)\n",
    "        # an affine operation: y = Wx + b\n",
    "        self.fc1 = nn.Linear(800, 200)\n",
    "        self.fc2 = nn.Linear(200, 3)\n",
    "\n",
    "    def forward(self, x):\n",
    "        x = self.pool1(self.conv1(x))\n",
    "        x = self.pool2(self.conv2(x))\n",
    "        x = self.pool3(self.conv3(x)) \n",
    "        x = self.pool4(self.conv4(x))    \n",
    "        # print 'x size: ', x.size()   \n",
    "        x = x.view(-1, self.num_flat_features(x))\n",
    "        # print 'x size: ', x.size()   \n",
    "        x = self.fc1(x)\n",
    "        x = self.fc2(x)\n",
    "        return x\n",
    "\n",
    "    def num_flat_features(self, x):\n",
    "        size = x.size()[1:]  # all dimensions except the batch dimension\n",
    "        num_features = 1\n",
    "        for s in size:\n",
    "            num_features *= s\n",
    "        return num_features\n",
    "\n",
    "cudnn.benchmark = True\n",
    "\n",
    "model = TrailNet3Class()\n",
    "model.cuda()\n",
    "\n",
    "state_dict = h5py.File('trailnet_3class_real_vr_mix_color.h5', 'r')\n",
    "model.load_state_dict({l : torch.from_numpy(np.array(v)).view_as(p) \\\n",
    "                     for k, v in state_dict.items() \\\n",
    "                     for l, p in model.named_parameters() if k in l})"
   ]
  },
  {
   "cell_type": "markdown",
   "metadata": {},
   "source": [
    "### Use [torch.utils.data.DataLoader](https://pytorch.org/docs/stable/data.html#torch.utils.data.DataLoader) to pack our custom dataset\n",
    "\n",
    "There are two type dataset inputs of torch.utils.data.DataLoader, **one is map-style** which implemented by \n",
    "inheriting [Dataset](https://pytorch.org/docs/stable/data.html#torch.utils.data.Dataset), **the other one is iterable-style** implemented by inheriting [IterableDataset](https://pytorch.org/docs/stable/data.html#torch.utils.data.IterableDataset)."
   ]
  },
  {
   "cell_type": "code",
   "execution_count": null,
   "metadata": {},
   "outputs": [],
   "source": [
    "test_dataset = TrailnetDataset(dataset_root=DATASET_ROOT)\n",
    "dataset_loader = DataLoader(test_dataset, batch_size=2, num_workers=0, shuffle=False)\n",
    "\n",
    "cnt = 0\n",
    "for idx, (images, targets) in enumerate(dataset_loader):\n",
    "    images, targets = images.cuda(), targets.cuda()\n",
    "    output = model(images)\n",
    "    pred = output.argmax(axis=1)\n",
    "#     print 'ground true: ', pred\n",
    "#     print 'pretiction : ', targets\n",
    "    for i in range(len(targets)):\n",
    "        if pred[i] == targets[i]:\n",
    "            cnt = cnt + 1\n",
    "print 'Accuracy: {:.2f} %'.format(float(cnt)/1080 * 100)"
   ]
  },
  {
   "cell_type": "code",
   "execution_count": null,
   "metadata": {},
   "outputs": [],
   "source": []
  }
 ],
 "metadata": {
  "kernelspec": {
   "display_name": "Python 2",
   "language": "python",
   "name": "python2"
  },
  "language_info": {
   "codemirror_mode": {
    "name": "ipython",
    "version": 2
   },
   "file_extension": ".py",
   "mimetype": "text/x-python",
   "name": "python",
   "nbconvert_exporter": "python",
   "pygments_lexer": "ipython2",
   "version": "2.7.15+"
  }
 },
 "nbformat": 4,
 "nbformat_minor": 2
}
