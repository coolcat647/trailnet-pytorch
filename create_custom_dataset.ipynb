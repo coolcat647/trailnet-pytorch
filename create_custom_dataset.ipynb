{
 "cells": [
  {
   "cell_type": "code",
   "execution_count": 1,
   "metadata": {},
   "outputs": [],
   "source": [
    "import torch\n",
    "from torch import nn\n",
    "import torch.backends.cudnn as cudnn\n",
    "from torch.utils.data import Dataset, DataLoader\n",
    "from torch.utils.data.sampler import SubsetRandomSampler\n",
    "from torch.optim.lr_scheduler import CosineAnnealingLR, MultiStepLR\n",
    "import torchvision\n",
    "from torchvision import transforms, utils, datasets\n",
    "\n",
    "import os\n",
    "import sys\n",
    "if '/opt/ros/kinetic/lib/python2.7/dist-packages' in sys.path:\n",
    "    sys.path.remove('/opt/ros/kinetic/lib/python2.7/dist-packages')\n",
    "import cv2\n",
    "import h5py\n",
    "import PIL\n",
    "import numpy as np\n",
    "import random\n",
    "import logging\n",
    "import gdown\n",
    "from zipfile import ZipFile\n",
    "import matplotlib.pyplot as plt\n",
    "\n",
    "%matplotlib inline"
   ]
  },
  {
   "cell_type": "markdown",
   "metadata": {},
   "source": [
    "## Parameters"
   ]
  },
  {
   "cell_type": "code",
   "execution_count": 2,
   "metadata": {},
   "outputs": [],
   "source": [
    "RATIO_VALIDATION_SPLIT = 0.1\n",
    "BATCH_SIZE = 8\n",
    "NUM_WROKERS = 4\n",
    "INPUT_IMG_SIZE = (101, 101)\n",
    "EPOCH = 50               # train the training data n times, to save time, we just train 1 epoch\n",
    "LR = 0.001               # learning rate\n",
    "DATASET_ROOT = './3-class_behavior-reflex'\n",
    "MODELS_ROOT = './models'\n",
    "CLASSES = np.loadtxt('class_id.txt', str, delimiter='\\n')"
   ]
  },
  {
   "cell_type": "markdown",
   "metadata": {},
   "source": [
    "## Download dataset"
   ]
  },
  {
   "cell_type": "code",
   "execution_count": 3,
   "metadata": {},
   "outputs": [
    {
     "name": "stdout",
     "output_type": "stream",
     "text": [
      "Finished downloading training dataset.\n"
     ]
    }
   ],
   "source": [
    "train_dataset_url = 'https://drive.google.com/uc?id=10wJUsO2Eo6aOK-ay-UlBBlf1_Ba1LdTY'\n",
    "train_dataset_name = '3-class_behavior-reflex'\n",
    "if not os.path.isdir(train_dataset_name):\n",
    "    gdown.download(train_dataset_url, output=train_dataset_name + '.zip', quiet=False)\n",
    "    zip1 = ZipFile(train_dataset_name + '.zip')\n",
    "    zip1.extractall(train_dataset_name)\n",
    "    zip1.close()\n",
    "\n",
    "print 'Finished downloading training dataset.'"
   ]
  },
  {
   "cell_type": "markdown",
   "metadata": {},
   "source": [
    "## Useful functions: \n",
    "dataset visualization and image loading function"
   ]
  },
  {
   "cell_type": "code",
   "execution_count": 5,
   "metadata": {},
   "outputs": [],
   "source": [
    "def vis_img(batch_data):   \n",
    "    # show images\n",
    "    imgs = torchvision.utils.make_grid(batch_data)\n",
    "    imgs = imgs / 2 + 0.5     # unnormalize\n",
    "    npimgs = imgs.numpy()\n",
    "    plt.rcParams['figure.figsize'] = [12, 5]\n",
    "    plt.imshow(np.transpose(npimgs, (1, 2, 0)))"
   ]
  },
  {
   "cell_type": "code",
   "execution_count": 6,
   "metadata": {},
   "outputs": [],
   "source": [
    "def load_images_from_folder(folder, classes):\n",
    "    img_paths = []\n",
    "    labels = []\n",
    "    for class_id, class_name in enumerate(classes):\n",
    "        class_folder = os.path.join(folder, class_name)\n",
    "        for filename in os.listdir(class_folder):\n",
    "            filename.lower().endswith(('.png', '.jpg', '.jpeg'))\n",
    "            img_paths.append(os.path.join(class_folder, filename))\n",
    "            labels.append(class_id)\n",
    "    return img_paths, labels"
   ]
  },
  {
   "cell_type": "code",
   "execution_count": 1,
   "metadata": {},
   "outputs": [],
   "source": [
    "def export_dataset_split_txt(train_dataset, val_dataset):\n",
    "    train_list_filename = 'train_dataset.txt'\n",
    "    test_list_filename = 'validation_dataset.txt'\n",
    "    \n",
    "    if not os.path.isfile(train_list_filename):\n",
    "        with open(train_list_filename, 'w+') as f:\n",
    "            for idx, (img, label, p) in enumerate(train_dataset):\n",
    "                f.write(p + ' ' + str(label.numpy()) + '\\n')\n",
    "    else: print(train_list_filename + 'is existed.')\n",
    "    \n",
    "    if not os.path.isfile(test_list_filename):\n",
    "        with open(test_list_filename, 'w+') as f:\n",
    "            for idx, (img, label, p) in enumerate(val_dataset):\n",
    "                f.write(p + ' ' + str(label.numpy()) + '\\n')\n",
    "    else: print(test_list_filename + 'is existed.')"
   ]
  },
  {
   "cell_type": "markdown",
   "metadata": {},
   "source": [
    "## Custom pytorch dataset class for Trailnet (load dataset from folder)"
   ]
  },
  {
   "cell_type": "code",
   "execution_count": 7,
   "metadata": {},
   "outputs": [],
   "source": [
    "class TrailnetDataset(Dataset):\n",
    "    def __init__(self, dataset_root):\n",
    "        classes = CLASSES\n",
    "        dataset_folders = self.collect_folders_from_dataset(dataset_root, classes)\n",
    "        \n",
    "        self.img_list = []\n",
    "        self.label_list = []\n",
    "        cnt = 0\n",
    "        for p in dataset_folders:\n",
    "            img_paths, labels = load_images_from_folder(p, classes)\n",
    "            self.img_list.extend(img_paths)\n",
    "            self.label_list.extend(labels)\n",
    "            cnt += len(img_paths)\n",
    "        print '********** Dataset Info start **********\\n'\n",
    "        print 'Dataset folder: ', dataset_folders\n",
    "        print 'Output classes: ', classes\n",
    "        print 'Amount of images: ', cnt\n",
    "        print '\\n*********** Dataset Info end ***********\\n'\n",
    "        \n",
    "        self.data_transform = transforms.Compose([ \n",
    "                                transforms.Resize(INPUT_IMG_SIZE), \\\n",
    "                                transforms.ToTensor(), \\\n",
    "                                transforms.Normalize(mean=[0.5, 0.5, 0.5], \\\n",
    "                                                     std=[1, 1, 1]), \\\n",
    "                                ])\n",
    "        \n",
    "    def __len__(self):\n",
    "        return len(self.img_list)\n",
    "    \n",
    "    def collect_folders_from_dataset(self, dataset_root, classes):\n",
    "        # Implement by BFS\n",
    "        search_list = [dataset_root, ]\n",
    "        dataset_folders = [] \n",
    "        while len(search_list) != 0:\n",
    "            root = search_list.pop(0)\n",
    "            if set(os.listdir(root)) == set(classes):\n",
    "                dataset_folders.append(root)\n",
    "            else:\n",
    "                for folder in os.listdir(root):\n",
    "                    path = os.path.join(root, folder)\n",
    "                    if os.path.isdir(path):\n",
    "                        search_list.append(path)\n",
    "        return dataset_folders\n",
    "\n",
    "    def __getitem__(self, index):\n",
    "        'Generates one sample of data'\n",
    "        # print self.img_list[index]\n",
    "        # Select sample, then load data and get label\n",
    "        path = self.img_list[index]\n",
    "        img_raw = self.default_loader(path)\n",
    "        x = self.data_transform(img_raw)\n",
    "        y = torch.tensor(self.label_list[index])\n",
    "        return x, y, path\n",
    "    \n",
    "    def pil_loader(self, path):\n",
    "        with open(path, 'rb') as f:\n",
    "            with PIL.Image.open(f) as img:\n",
    "                return img.convert('RGB')\n",
    "\n",
    "    def accimage_loader(self, path):\n",
    "        try:\n",
    "            return accimage.Image(path)\n",
    "        except IOError:\n",
    "            # Potentially a decoding problem, fall back to PIL.Image\n",
    "            return pil_loader(path)\n",
    "\n",
    "    def default_loader(self, path):\n",
    "        if torchvision.get_image_backend() == 'accimage':\n",
    "            return self.accimage_loader(path)\n",
    "        else:\n",
    "            return self.pil_loader(path)"
   ]
  },
  {
   "cell_type": "markdown",
   "metadata": {},
   "source": [
    "## Dataset splitter \n",
    "\n",
    "[Reference link](https://stackoverflow.com/questions/50544730/how-do-i-split-a-custom-dataset-into-training-and-test-datasets\n",
    ")\n",
    "\n",
    "If you were confusing what are the differences between the dataset and dataloader in Pytorch, check out the [link](https://discuss.pytorch.org/t/discussion-about-datasets-and-dataloaders/296/6)."
   ]
  },
  {
   "cell_type": "code",
   "execution_count": 8,
   "metadata": {
    "scrolled": false
   },
   "outputs": [
    {
     "name": "stdout",
     "output_type": "stream",
     "text": [
      "********** Dataset Info start **********\n",
      "\n",
      "Dataset folder:  ['./3-class_behavior-reflex/3-class_behavior-reflex_taining_data/virtual_environment/brick_red', './3-class_behavior-reflex/3-class_behavior-reflex_taining_data/virtual_environment/brick_B51_flip', './3-class_behavior-reflex/3-class_behavior-reflex_taining_data/virtual_environment/brick_gray_flip', './3-class_behavior-reflex/3-class_behavior-reflex_taining_data/virtual_environment/brick_gray', './3-class_behavior-reflex/3-class_behavior-reflex_taining_data/virtual_environment/wood_TKU_flip', './3-class_behavior-reflex/3-class_behavior-reflex_taining_data/virtual_environment/brick_B51', './3-class_behavior-reflex/3-class_behavior-reflex_taining_data/virtual_environment/brick_red_flip', './3-class_behavior-reflex/3-class_behavior-reflex_taining_data/virtual_environment/wood_TKU', './3-class_behavior-reflex/3-class_behavior-reflex_taining_data/real-world_environment/3/YB3_C', './3-class_behavior-reflex/3-class_behavior-reflex_taining_data/real-world_environment/3/YB3_A', './3-class_behavior-reflex/3-class_behavior-reflex_taining_data/real-world_environment/3/YB3_E', './3-class_behavior-reflex/3-class_behavior-reflex_taining_data/real-world_environment/3/YB3_D', './3-class_behavior-reflex/3-class_behavior-reflex_taining_data/real-world_environment/3/YB3_B', './3-class_behavior-reflex/3-class_behavior-reflex_taining_data/real-world_environment/3_F/YB3_D_flip', './3-class_behavior-reflex/3-class_behavior-reflex_taining_data/real-world_environment/3_F/YB3_C_flip', './3-class_behavior-reflex/3-class_behavior-reflex_taining_data/real-world_environment/3_F/YB3_B_flip', './3-class_behavior-reflex/3-class_behavior-reflex_taining_data/real-world_environment/3_F/YB3_E_flip', './3-class_behavior-reflex/3-class_behavior-reflex_taining_data/real-world_environment/3_F/YB3_A_flip']\n",
      "Output classes:  ['L' 'S' 'R']\n",
      "Amount of images:  29914\n",
      "\n",
      "*********** Dataset Info end ***********\n",
      "\n",
      "Size of training dataset:    26922\n",
      "Size of validation dataset:  2992\n"
     ]
    }
   ],
   "source": [
    "full_dataset = TrailnetDataset(dataset_root=DATASET_ROOT)\n",
    "train_size = int((1 - RATIO_VALIDATION_SPLIT) * len(full_dataset))\n",
    "validation_size = len(full_dataset) - train_size\n",
    "train_dataset, val_dataset = torch.utils.data.random_split(full_dataset, [train_size, validation_size])\n",
    "\n",
    "print 'Size of training dataset:   ', len(train_dataset)\n",
    "print 'Size of validation dataset: ', len(val_dataset)\n",
    "\n",
    "train_loader = DataLoader(train_dataset, batch_size=BATCH_SIZE, num_workers=NUM_WROKERS, shuffle=True)\n",
    "val_loader = DataLoader(val_dataset, batch_size=BATCH_SIZE, num_workers=NUM_WROKERS, shuffle=False)"
   ]
  },
  {
   "cell_type": "code",
   "execution_count": 10,
   "metadata": {},
   "outputs": [
    {
     "name": "stdout",
     "output_type": "stream",
     "text": [
      "Finished export training and testing datset list.\n"
     ]
    }
   ],
   "source": [
    "# It takes about 3 mins to export txt file\n",
    "export_dataset_split_txt(train_dataset, val_dataset)\n",
    "print 'Finished export training and testing datset list.'"
   ]
  }
 ],
 "metadata": {
  "kernelspec": {
   "display_name": "Python 2",
   "language": "python",
   "name": "python2"
  },
  "language_info": {
   "codemirror_mode": {
    "name": "ipython",
    "version": 2
   },
   "file_extension": ".py",
   "mimetype": "text/x-python",
   "name": "python",
   "nbconvert_exporter": "python",
   "pygments_lexer": "ipython2",
   "version": "2.7.12"
  }
 },
 "nbformat": 4,
 "nbformat_minor": 2
}
